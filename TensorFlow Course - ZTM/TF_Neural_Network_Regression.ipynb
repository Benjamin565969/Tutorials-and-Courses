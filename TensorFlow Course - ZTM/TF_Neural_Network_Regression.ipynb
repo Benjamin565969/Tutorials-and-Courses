{
 "cells": [
  {
   "cell_type": "markdown",
   "metadata": {},
   "source": [
    "## Motivation \n",
    "\n",
    "What is a regression problem?\n",
    "\n",
    "Key characteristics:\n",
    "\n",
    "- Estimating the relationship between a dependent variable (label) and independent variables (predictors, features or covariates). \n",
    "\n",
    "- A form of supervised learning. \n",
    "\n",
    "- Numeric data.\n"
   ]
  },
  {
   "cell_type": "markdown",
   "metadata": {},
   "source": [
    "## Anatomy of Neural Networks (Simple)\n",
    "\n",
    "![alt text](images/NN_diagram.png \"NN_Diagram\")\n",
    "\n",
    "![alt text](images/regression_NN_architecture.png \"regression_NN_architecture\")"
   ]
  },
  {
   "cell_type": "markdown",
   "metadata": {},
   "source": [
    "## Creating Sample Data"
   ]
  },
  {
   "cell_type": "code",
   "execution_count": null,
   "metadata": {},
   "outputs": [],
   "source": [
    "# Import modules.\n",
    "import tensorflow as tf \n",
    "import numpy as np\n",
    "import matplotlib.pyplot as plt\n",
    "\n",
    "# Creating features.\n",
    "X = np.array([-8.0, -4.0, -1.0, 2.0, 5.0, 8.0, 11.0, 14.0])\n",
    "\n",
    "# Creating labels.\n",
    "y = np.array([3.0, 6.0, 9.0, 12.0, 15.0, 18.0, 21.0, 24.0])\n",
    "\n",
    "# Visualizing data.\n",
    "plt.scatter(X, y)\n",
    "\n",
    "# Convert NumPy arrays to tensors.\n",
    "X = tf.constant(X)\n",
    "y = tf.constant(y)"
   ]
  },
  {
   "cell_type": "markdown",
   "metadata": {},
   "source": [
    "## Modelling with Tensor Flow\n",
    "\n",
    "In general:\n",
    "\n",
    "1. **Create a model**: define the input anf output layers, as well as hidden layers.\n",
    "\n",
    "2. **Compiling a model**: define the loss function, optimier, and evaluation metrics.\n",
    "\n",
    "3. **Fit a model**: let the model find patterns between fetures and labels."
   ]
  },
  {
   "cell_type": "code",
   "execution_count": null,
   "metadata": {},
   "outputs": [],
   "source": [
    "# Set random seed.\n",
    "tf.random.set_seed(42)\n",
    "\n",
    "# Initialise a model using the sequential API.\n",
    "model = tf.keras.Sequential([\n",
    "    tf.keras.layers.Dense(1) # predict y_{i} using X_{i}\n",
    "])\n",
    "\n",
    "# Compile the model.\n",
    "model.compile(\n",
    "    loss = tf.keras.losses.mae, \n",
    "    optimizer = tf.keras.optimizers.SGD(),\n",
    "    metrics = [\"mae\"]\n",
    ")\n",
    "\n",
    "# Fit the model.\n",
    "model.fit(tf.expand_dims(X, axis = -1), y, epochs = 5)\n",
    "\n",
    "# Predicting new label.\n",
    "model.predict(np.array([[17.0]]))\n"
   ]
  },
  {
   "cell_type": "markdown",
   "metadata": {},
   "source": [
    "## Improving a Model"
   ]
  },
  {
   "cell_type": "markdown",
   "metadata": {},
   "source": [
    "The previous model did not perform well. We can improve our model by altering the steps we took to create it.\n",
    "\n",
    "1. **Creating a model**: add layers, incerease the number of hidden units within each hideen leayer, and or change theactivation function of each layer.\n",
    "\n",
    "2. **Compiling a model**: change the optimization functions or learning rate. \n",
    "\n",
    "3. **Fitting a model**: increase the number of epochs or provide the model with more data."
   ]
  },
  {
   "cell_type": "code",
   "execution_count": null,
   "metadata": {},
   "outputs": [],
   "source": [
    "# Set random seed.\n",
    "tf.random.set_seed(42)\n",
    "\n",
    "# Initialise a model using the sequential API.\n",
    "model = tf.keras.Sequential([\n",
    "    tf.keras.layers.Dense(100, activation=\"relu\"),\n",
    "    tf.keras.layers.Dense(1) # predict y_{i} using X_{i}\n",
    "])\n",
    "\n",
    "# Compile the model, but this time with different optimizer.\n",
    "model.compile(\n",
    "    loss = tf.keras.losses.mae, \n",
    "    optimizer = tf.keras.optimizers.SGD(),\n",
    "    metrics = [\"mae\"]\n",
    ")\n",
    "\n",
    "# Fit the model, but this time with more epochs.\n",
    "model.fit(tf.expand_dims(X, axis = -1), y, epochs = 100)\n",
    "\n",
    "# Predicting new label.\n",
    "model.predict(np.array([[17.0]]))\n",
    "\n",
    "# Despite having a lower MAE, when tested on new data the model performs worse. \n",
    "# This is due to overfitting. "
   ]
  }
 ],
 "metadata": {
  "kernelspec": {
   "display_name": "3.12.0",
   "language": "python",
   "name": "python3"
  },
  "language_info": {
   "codemirror_mode": {
    "name": "ipython",
    "version": 3
   },
   "file_extension": ".py",
   "mimetype": "text/x-python",
   "name": "python",
   "nbconvert_exporter": "python",
   "pygments_lexer": "ipython3",
   "version": "3.12.7"
  }
 },
 "nbformat": 4,
 "nbformat_minor": 2
}
