{
 "cells": [
  {
   "cell_type": "markdown",
   "metadata": {},
   "source": [
    "## Constructing Tensors\n",
    "\n",
    "- Scalar: $s \\in \\mathbb{R}$\n",
    "- Vector: $v \\in \\mathbb{R}^{n}$\n",
    "- Matrix: $m \\in \\mathbb{R}^{n \\times n}$\n",
    "- Tensor: $t \\in \\mathbb{R}^{n \\times \\ldots \\times n}$\n",
    "\n",
    "The following code chunk creates a scalar, vector, matrix and tensor using tf.constant(). \n",
    "\n",
    "**Remember**: tf.constant() is a constructor for a tensor that has **immutable** values."
   ]
  },
  {
   "cell_type": "code",
   "execution_count": null,
   "metadata": {},
   "outputs": [],
   "source": [
    "# Import TensorFlow.\n",
    "import tensorflow as tf\n",
    "print(tf.__version__)\n",
    "\n",
    "# Initialise a scalar.\n",
    "scalar = tf.constant(10)\n",
    "\n",
    "# Check the number of dimensions of the scalar.\n",
    "print(scalar.ndim)\n",
    "\n",
    "# Initialize a vector.\n",
    "vector = tf.constant([10, 20])\n",
    "\n",
    "# Check the number of dimensions of the vector.\n",
    "print(vector.ndim)\n",
    "\n",
    "# Initialize a matrix.\n",
    "matrix = tf.constant([\n",
    "    [1.0, 2.0],\n",
    "    [3.0, 4.0]\n",
    "], dtype = tf.float16)\n",
    "\n",
    "# Check the number of dimensions of the matrix.\n",
    "print(matrix.ndim)\n",
    "\n",
    "# Initialize a tensor.\n",
    "tensor = tf.constant([\n",
    "    [[1, 2, 3], [4, 5, 6]],\n",
    "    [[7, 8, 9], [10, 11, 12]],\n",
    "])\n",
    "\n",
    "# Check the number of dimensions of the tensor.\n",
    "print(tensor.ndim)"
   ]
  },
  {
   "cell_type": "markdown",
   "metadata": {},
   "source": [
    "The following code chunk creates a tensor using tf.variable(). \n",
    "\n",
    "**Remember**: tf.variable() is a constructor for a tensor that has **mutable** values."
   ]
  },
  {
   "cell_type": "code",
   "execution_count": null,
   "metadata": {},
   "outputs": [],
   "source": [
    "# Import TensorFlow.\n",
    "import tensorflow as tf\n",
    "\n",
    "# Initialize tensors.\n",
    "changeable_tensor = tf.Variable([10,7])\n",
    "unchangeable_tensor = tf.constant([10,7])\n",
    "\n",
    "# Reinitialise a value in a tensor using the assign() method.\n",
    "changeable_tensor[0].assign(7)"
   ]
  },
  {
   "cell_type": "markdown",
   "metadata": {},
   "source": [
    "The following code chunk creates a random tensor. \n",
    "\n",
    "**Remember**: Random tensors of some arbitrary size can be constructed using random number generators. This is useful for initializing the weights in a neural network."
   ]
  },
  {
   "cell_type": "code",
   "execution_count": null,
   "metadata": {},
   "outputs": [],
   "source": [
    "# Import TensorFlow\n",
    "import tensorflow as tf\n",
    "\n",
    "# Initialise random number generators with seed 42.\n",
    "rand_generator_1 = tf.random.Generator.from_seed(42)\n",
    "rand_generator_2 = tf.random.Generator.from_seed(42)\n",
    "\n",
    "# Initialise a new tensor; sample the values from a normal distribution.\n",
    "random_tensor_1 = rand_generator_1.normal(shape = (3, 3))\n",
    "random_tensor_2 = rand_generator_2.normal(shape=(3, 3))\n",
    "random_tensor_1, random_tensor_2, random_tensor_1 == random_tensor_2"
   ]
  },
  {
   "cell_type": "markdown",
   "metadata": {},
   "source": [
    "The following code chunk shuffles the order of elements in a tensor. \n",
    "\n",
    "**Remember**: This is useful for randomizing the order data is processed so it doesn't affect learning."
   ]
  },
  {
   "cell_type": "code",
   "execution_count": null,
   "metadata": {},
   "outputs": [],
   "source": [
    "# Import TensorFlow.\n",
    "import tensorflow as tf\n",
    "\n",
    "# Initialize a tensor.\n",
    "not_shuffled = tf.constant([\n",
    "    [10, 20],\n",
    "    [30, 40],\n",
    "    [50, 60],\n",
    "    [70, 80],\n",
    "    [90, 100]\n",
    "])\n",
    "\n",
    "# Check the number of dimensions of the tensor.\n",
    "print(not_shuffled.ndim)\n",
    "\n",
    "# Shuffle a tensor along its first dimension (column).\n",
    "tf.random.shuffle(not_shuffled)"
   ]
  },
  {
   "cell_type": "markdown",
   "metadata": {},
   "source": [
    "The following code chunk creates tensors using NumPy."
   ]
  },
  {
   "cell_type": "code",
   "execution_count": null,
   "metadata": {},
   "outputs": [],
   "source": [
    "# Import TensorFlow.\n",
    "import tensorflow as tf\n",
    "import numpy as np\n",
    "\n",
    "# Initialise a tensor of all ones and a tensor of all zeros.\n",
    "tf.ones([3, 3])\n",
    "tf.zeros([3, 3])\n",
    "\n",
    "# Initialise tensors from NumPy arrays.\n",
    "numpy_A = np.arange(1, 28, dtype = np.int32)\n",
    "A = tf.constant(numpy_A)\n",
    "B = tf.constant(numpy_A, shape = (3, 3, 3))\n",
    "A, B"
   ]
  },
  {
   "cell_type": "markdown",
   "metadata": {},
   "source": [
    "## Accessing Information from Tensors\n",
    "\n",
    "Important pieces in information:\n",
    "\n",
    "- **Shape**: number of elements in each dimension.\n",
    "\n",
    "- **Rank**: the number of dimensions.\n",
    "\n",
    "- **Axis**: a particular dimension of a tensor.\n",
    "\n",
    "- **Size**: The total number of elements in a tensor.\n",
    "\n",
    "The following code chunk explains how to access these attributes from a tensor."
   ]
  },
  {
   "cell_type": "code",
   "execution_count": null,
   "metadata": {},
   "outputs": [],
   "source": [
    "# Import TensorFlow.\n",
    "import tensorflow as tf\n",
    "\n",
    "# Initialise a tensor.\n",
    "rank_4_tensor = tf.zeros(shape = [2, 2, 2, 2])\n",
    "\n",
    "# Format and print attributes in the terminal.\n",
    "print(\"The datatype of every element is: \", rank_4_tensor.dtype)\n",
    "print(\"The number of dimensions is: \", rank_4_tensor.ndim)\n",
    "print(\"The shape is: \", rank_4_tensor.shape)\n",
    "print(\"The size is: \", tf.size(rank_4_tensor).numpy())\n",
    "\n",
    "# Tensors can be index just like Python lists.\n",
    "rank_4_tensor[:2, :2, :2, :2]\n",
    "rank_4_tensor[:1, :1, :, :1]\n",
    "rank_2_tensor = tf.constant([\n",
    "    [4, 4], \n",
    "    [4, 4]\n",
    "])\n",
    "\n",
    "# Inserts another dimension into a tensor.\n",
    "rank_3_tensor_1 = rank_2_tensor[..., tf.newaxis] #..., ~ :, ..., :, \n",
    "rank_3_tensor_1\n",
    "\n",
    "# An alternative way to do this is using tf.expand_dims().\n",
    "# The difference with this function is that you can change the specific dim.\n",
    "tf.expand_dims(rank_2_tensor, axis = -1)"
   ]
  },
  {
   "cell_type": "markdown",
   "metadata": {},
   "source": [
    "## Manipulating Tensors\n",
    "\n",
    "The following code chunk shows how arithmetic operators act on tensors.\n"
   ]
  },
  {
   "cell_type": "code",
   "execution_count": null,
   "metadata": {},
   "outputs": [],
   "source": [
    "# Import TensorFlow.\n",
    "import tensorflow as tf\n",
    "\n",
    "# Initialise a tensor.\n",
    "X = tf.constant([\n",
    "    [1, 2], \n",
    "    [3, 4]\n",
    "])\n",
    "\n",
    "# This does not change the original tensor.\n",
    "# The arithmetic operation is done element wise.\n",
    "X + 10\n",
    "X - 10\n",
    "X * 10\n",
    "X / 10\n",
    "X // 10\n",
    "X % 10\n",
    "\n",
    "# In addition to Python operators, we can use Tensor Flow functions.\n",
    "# This does not change the original tensor.\n",
    "# These functions are preferable since they run faster on GPUs.\n",
    "tf.multiply(X, 10)"
   ]
  },
  {
   "cell_type": "markdown",
   "metadata": {},
   "source": [
    "The following code chunk performs tensor multiplication."
   ]
  },
  {
   "cell_type": "code",
   "execution_count": null,
   "metadata": {},
   "outputs": [],
   "source": [
    "# Import TensorFlow.\n",
    "import tensorflow as tf\n",
    "\n",
    "# Initialise tensors.\n",
    "X = tf.constant([\n",
    "    [1, 2, 5], \n",
    "    [7, 2, 1], \n",
    "    [3, 3, 3]\n",
    "])\n",
    "Y = tf.constant([\n",
    "    [3, 5],\n",
    "    [6, 7], \n",
    "    [1, 8]\n",
    "])\n",
    "\n",
    "# Multiply tensors.\n",
    "tf.matmul(X, Y)\n",
    "\n",
    "# Note, tf.transpose is not the same as tf.reshape. \n",
    "# tf.transpose works as the mathematical definition suggests.\n",
    "# tf.reshape shuffles the elements of a tensor.\n",
    "tf.matmul(tf.reshape(Y, shape = (2, 3)), X)\n",
    "tf.matmul(tf.transpose(Y), X)\n",
    "\n",
    "# Matrix multiplication can also be done using tf.tensordot()\n",
    "# This is a complicated function, see the documentation for how axes works.\n",
    "tf.tensordot(tf.transpose(Y), X, axes = 1)"
   ]
  },
  {
   "cell_type": "markdown",
   "metadata": {},
   "source": [
    "The following code chunk change the datatype of a tensor."
   ]
  },
  {
   "cell_type": "code",
   "execution_count": null,
   "metadata": {},
   "outputs": [],
   "source": [
    "# Import TensorFlow.\n",
    "import tensorflow as tf\n",
    "\n",
    "# Initialise a tensor.\n",
    "X = tf.constant([\n",
    "    [1, 2], \n",
    "    [3, 4]\n",
    "], dtype = tf.float32)\n",
    "\n",
    "# In tensor flow the default data type has 32 bits of precision. \n",
    "# You can explicitly specify 16 bits of precision for faster computation.\n",
    "X = tf.cast(tensor, dtype=tf.float16)\n",
    "X"
   ]
  },
  {
   "cell_type": "markdown",
   "metadata": {},
   "source": [
    "The following code chunk aggregates tensors."
   ]
  },
  {
   "cell_type": "code",
   "execution_count": null,
   "metadata": {},
   "outputs": [],
   "source": [
    "# Import TensorFlow.\n",
    "import tensorflow as tf\n",
    "\n",
    "# Initialise a tensor.\n",
    "X = tf.constant([\n",
    "    [1, 2], \n",
    "    [3, 4]\n",
    "], dtype = tf.float32)\n",
    "\n",
    "# Different aggregation methods\n",
    "tf.abs(X)\n",
    "tf.reduce_min(X)\n",
    "tf.reduce_max(X)\n",
    "tf.reduce_mean(X)\n",
    "tf.math.reduce_variance(X)\n",
    "tf.math.reduce_std(X)"
   ]
  },
  {
   "cell_type": "markdown",
   "metadata": {},
   "source": [
    "The following code chunk finds the positional minimum and maximum of a tensor."
   ]
  },
  {
   "cell_type": "code",
   "execution_count": null,
   "metadata": {},
   "outputs": [],
   "source": [
    "# Import TensorFlow.\n",
    "import tensorflow as tf\n",
    "\n",
    "# Initialise a tensor; sample values uniformly.\n",
    "X = tf.random.uniform(shape=[50])\n",
    "\n",
    "# Returns the positional minimum.\n",
    "tf.argmin(X)\n",
    "\n",
    "# Returns the value at the position of the minimum.\n",
    "tf.reduce_min(X), tf.reduce_min(X) == X[tf.argmin(X)]\n",
    "\n",
    "# Returns the positional maximum.\n",
    "tf.argmax(X)\n",
    "\n",
    "# Returns the value at the position of the minimum.\n",
    "tf.reduce_max(X), tf.reduce_max(X) == X[tf.argmax(X)]"
   ]
  },
  {
   "cell_type": "markdown",
   "metadata": {},
   "source": [
    "The following code chunk squeezes a tensor."
   ]
  },
  {
   "cell_type": "code",
   "execution_count": null,
   "metadata": {},
   "outputs": [],
   "source": [
    "# Import TensorFlow.\n",
    "import tensorflow as tf\n",
    "\n",
    "# Initialise a tensor; sample values uniformly.\n",
    "X = tf.constant(tf.random.uniform(shape=[50]), shape = (1, 1, 1, 1, 50))\n",
    "\n",
    "# Initialise a new squeezed tensor, which removes dimensions of size 1.\n",
    "Y = tf.squeeze(X)\n",
    "X, Y"
   ]
  },
  {
   "cell_type": "markdown",
   "metadata": {},
   "source": [
    "The following code chunk one-hot encodes a tensor.\n",
    "\n",
    "**Remember**: one-hot encoding is a way of transforming categorical data to a binary format."
   ]
  },
  {
   "cell_type": "code",
   "execution_count": null,
   "metadata": {},
   "outputs": [],
   "source": [
    "# Import TensorFlow.\n",
    "import tensorflow as tf\n",
    "\n",
    "# Initialise a list of indices.\n",
    "some_list = [0, 1, 2, 3, 4]\n",
    "\n",
    "# One hot encode this list of indices. \n",
    "# See the TF docs for an explanation of the second argument (depth).\n",
    "tf.one_hot(some_list, 5)"
   ]
  }
 ],
 "metadata": {
  "kernelspec": {
   "display_name": "base",
   "language": "python",
   "name": "python3"
  },
  "language_info": {
   "codemirror_mode": {
    "name": "ipython",
    "version": 3
   },
   "file_extension": ".py",
   "mimetype": "text/x-python",
   "name": "python",
   "nbconvert_exporter": "python",
   "pygments_lexer": "ipython3",
   "version": "3.12.7"
  }
 },
 "nbformat": 4,
 "nbformat_minor": 2
}
