{
 "cells": [
  {
   "cell_type": "markdown",
   "metadata": {
    "vscode": {
     "languageId": "html"
    }
   },
   "source": [
    "# Overview\n",
    "\n",
    "In this notebook, we are going to cover fundamental tensor concepts. Specifically:\n",
    "\n",
    "- Constructing tensors.\n",
    "- Accessing infromation from tensors.\n",
    "- Manipulating tensors.\n",
    "- Tensors & NumPy\n",
    "- Using @tf.function\n",
    "- Using GPU or TPU with TensorFlow"
   ]
  },
  {
   "cell_type": "markdown",
   "metadata": {},
   "source": [
    "## Constructing Tensors\n",
    "\n",
    "- Scalar: $s \\in \\mathbb{R}$\n",
    "- Vector: $v \\in \\mathbb{R}^{n}$\n",
    "- Matrix: $m \\in \\mathbb{R}^{n \\times n}$\n",
    "- Tensor: $t \\in \\mathbb{R}^{n \\times \\ldots \\times n}$\n",
    "\n",
    "The chunk of code below creates a scalar, vector, matrix and tensor using tf.constant().\n",
    "\n",
    "tf.constant() is a constructor for a tensor that has **immutable** values."
   ]
  },
  {
   "cell_type": "code",
   "execution_count": null,
   "metadata": {},
   "outputs": [],
   "source": [
    "# Import TensorFlow.\n",
    "import tensorflow as tf\n",
    "print(tf.__version__)\n",
    "\n",
    "# Create tensors with tf.constant().\n",
    "scalar = tf.constant(10)\n",
    "\n",
    "# Check the number of dimensions of a tensor.\n",
    "print(scalar.ndim)\n",
    "\n",
    "# Create a vector.\n",
    "vector = tf.constant([10, 20])\n",
    "\n",
    "# Check the dimension.\n",
    "print(vector.ndim)\n",
    "\n",
    "# Create a matrix.\n",
    "matrix = tf.constant([\n",
    "    [1.0, 2.0],\n",
    "    [3.0, 4.0]\n",
    "], dtype = tf.float16)\n",
    "print(matrix.ndim)\n",
    "\n",
    "# Create a tensor. \n",
    "tensor = tf.constant([\n",
    "    [[1, 2, 3], [4, 5, 6]],\n",
    "    [[7, 8, 9], [10, 11, 12]],\n",
    "])\n",
    "print(tensor.ndim)"
   ]
  },
  {
   "cell_type": "markdown",
   "metadata": {},
   "source": [
    "The chunk of code below creates a tensor using tf.variable(). \n",
    "\n",
    "tf.variable() is a constructor for a tensor that has **mutable** values."
   ]
  },
  {
   "cell_type": "code",
   "execution_count": null,
   "metadata": {},
   "outputs": [],
   "source": [
    "# Import TensorFlow.\n",
    "import tensorflow as tf\n",
    "\n",
    "# Initialize tensors.\n",
    "changeable_tensor = tf.Variable([10,7])\n",
    "unchangeable_tensor = tf.constant([10,7])\n",
    "\n",
    "# Reinitialise value in tensor using the assign() method.\n",
    "changeable_tensor[0].assign(7)"
   ]
  },
  {
   "cell_type": "markdown",
   "metadata": {},
   "source": [
    "Random are tensors of some arbitrary size that contain randomly generated numbers. This is useful for initializing the weights in a neural network."
   ]
  },
  {
   "cell_type": "code",
   "execution_count": null,
   "metadata": {},
   "outputs": [],
   "source": [
    "# Import TensorFlow\n",
    "import tensorflow as tf\n",
    "\n",
    "# Creates random number generatorw with seed 42.\n",
    "rand_generator_1 = tf.random.Generator.from_seed(42)\n",
    "rand_generator_2 = tf.random.Generator.from_seed(42)\n",
    "\n",
    "# Generates and returns a new tensor with values from a normal dist.\n",
    "random_tensor_1 = rand_generator_1.normal(shape = (3, 3))\n",
    "random_tensor_2 = rand_generator_2.normal(shape=(3, 3))\n",
    "\n",
    "random_tensor_1, random_tensor_2, random_tensor_1 == random_tensor_2"
   ]
  },
  {
   "cell_type": "markdown",
   "metadata": {},
   "source": [
    "The chunk of code below shuffles the order of elements in a tensor. This is useful for randomizing the order of data so it doesn't affect learning."
   ]
  },
  {
   "cell_type": "code",
   "execution_count": null,
   "metadata": {},
   "outputs": [],
   "source": [
    "# Import TensorFlow.\n",
    "import tensorflow as tf\n",
    "\n",
    "not_shuffled = tf.constant([\n",
    "    [10, 20],\n",
    "    [30, 40],\n",
    "    [50, 60],\n",
    "    [70, 80],\n",
    "    [90, 100]\n",
    "])\n",
    "print(not_shuffled.ndim)\n",
    "\n",
    "# Shuffle a tensor along its first dimension (column).\n",
    "tf.random.shuffle(not_shuffled)"
   ]
  },
  {
   "cell_type": "markdown",
   "metadata": {},
   "source": [
    "The chunk of code below creates tensors using NumPy"
   ]
  },
  {
   "cell_type": "code",
   "execution_count": null,
   "metadata": {},
   "outputs": [],
   "source": [
    "# Import TensorFlow.\n",
    "import tensorflow as tf\n",
    "import numpy as np\n",
    "\n",
    "# Create a tensor of all ones and all zeros.\n",
    "tf.ones([3, 3])\n",
    "tf.zeros([3, 3])\n",
    "\n",
    "# Creates a tensor from a NumPy array\n",
    "numpy_A = np.arange(1, 28, dtype = np.int32)\n",
    "A = tf.constant(numpy_A)\n",
    "B = tf.constant(numpy_A, shape = (3, 3, 3))\n",
    "\n",
    "A, B"
   ]
  },
  {
   "cell_type": "markdown",
   "metadata": {},
   "source": [
    "## Accessing Information from Tensors\n",
    "\n",
    "Important pieces in information:\n",
    "\n",
    "- **Shape**: number of elements in each dimension.\n",
    "\n",
    "- **Rank**: the number of dimensions.\n",
    "\n",
    "- **Axis**: a particular dimension of a tensor.\n",
    "\n",
    "- **Size**: The total number of elements in a tensor."
   ]
  },
  {
   "cell_type": "code",
   "execution_count": null,
   "metadata": {},
   "outputs": [],
   "source": [
    "# Import TensorFlow.\n",
    "import tensorflow as tf\n",
    "\n",
    "rank_3_tensor = tf.zeros(shape = [2, 2, 2])\n",
    "\n",
    "print(\"The datatype of every element is: \", rank_3_tensor.dtype)\n",
    "print(\"The number of dimensions is: \", rank_3_tensor.ndim)\n",
    "print(\"The shape is: \", rank_3_tensor.shape)\n",
    "print(\"The size is: \", tf.size(rank_3_tensor).numpy())"
   ]
  }
 ],
 "metadata": {
  "kernelspec": {
   "display_name": "base",
   "language": "python",
   "name": "python3"
  },
  "language_info": {
   "codemirror_mode": {
    "name": "ipython",
    "version": 3
   },
   "file_extension": ".py",
   "mimetype": "text/x-python",
   "name": "python",
   "nbconvert_exporter": "python",
   "pygments_lexer": "ipython3",
   "version": "3.12.7"
  }
 },
 "nbformat": 4,
 "nbformat_minor": 2
}
