{
 "cells": [
  {
   "cell_type": "markdown",
   "metadata": {
    "vscode": {
     "languageId": "html"
    }
   },
   "source": [
    "# Overview\n",
    "\n",
    "In this notebook, we are going to cover fundamental tensor concepts. Specifically:\n",
    "\n",
    "- Introduction to tensors.\n",
    "- Getting information from tensors.\n",
    "- Manipulating tensors.\n",
    "- Tensors & NumPy\n",
    "- Using @tf.function\n",
    "- Using GPU or TPU with TensorFlow"
   ]
  },
  {
   "cell_type": "markdown",
   "metadata": {},
   "source": [
    "## Introduction to Tensors\n",
    "\n",
    "- Scalar: $s \\in \\mathbb{R}$\n",
    "- Vector: $v \\in \\mathbb{R}^{n}$\n",
    "- Matrix: $m \\in \\mathbb{R}^{n \\times n}$\n",
    "- Tensor: $t \\in \\mathbb{R}^{n \\times \\ldots \\times n}$"
   ]
  },
  {
   "cell_type": "code",
   "execution_count": 19,
   "metadata": {},
   "outputs": [
    {
     "name": "stdout",
     "output_type": "stream",
     "text": [
      "2.18.0\n",
      "0\n",
      "1\n",
      "2\n",
      "3\n"
     ]
    }
   ],
   "source": [
    "# Import TensorFlow.\n",
    "import tensorflow as tf\n",
    "print(tf.__version__)\n",
    "\n",
    "# Create tensors with tf.constant().\n",
    "scalar = tf.constant(10)\n",
    "\n",
    "# Check the number of dimensions of a tensor.\n",
    "print(scalar.ndim)\n",
    "\n",
    "# Create a vector.\n",
    "vector = tf.constant([10, 20])\n",
    "\n",
    "# Check the dimension.\n",
    "print(vector.ndim)\n",
    "\n",
    "# Create a matrix.\n",
    "matrix = tf.constant([\n",
    "    [1.0, 2.0],\n",
    "    [3.0, 4.0]\n",
    "], dtype = tf.float16)\n",
    "print(matrix.ndim)\n",
    "\n",
    "# Create a tensor. \n",
    "tensor = tf.constant([\n",
    "    [[1, 2, 3], [4, 5, 6]],\n",
    "    [[7, 8, 9], [10, 11, 12]],\n",
    "])\n",
    "print(tensor.ndim)"
   ]
  }
 ],
 "metadata": {
  "kernelspec": {
   "display_name": "base",
   "language": "python",
   "name": "python3"
  },
  "language_info": {
   "codemirror_mode": {
    "name": "ipython",
    "version": 3
   },
   "file_extension": ".py",
   "mimetype": "text/x-python",
   "name": "python",
   "nbconvert_exporter": "python",
   "pygments_lexer": "ipython3",
   "version": "3.12.7"
  }
 },
 "nbformat": 4,
 "nbformat_minor": 2
}
